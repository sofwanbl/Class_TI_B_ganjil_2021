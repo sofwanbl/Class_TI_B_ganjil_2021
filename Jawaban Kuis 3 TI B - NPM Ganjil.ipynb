{
 "cells": [
  {
   "cell_type": "code",
   "execution_count": 6,
   "metadata": {},
   "outputs": [
    {
     "name": "stdout",
     "output_type": "stream",
     "text": [
      "Nama :Ali\n",
      "Kota :Jakarta\n",
      "Ali berada di Jakarta\n"
     ]
    }
   ],
   "source": [
    "#1. Buatlah program dengan 2 inputan berupa inputan Nama dan Kota lalu gabungkan dengan\n",
    "#dengan sebuah kalimat sehingga menjadi : <<Nama>> berada di <<Kota>>\n",
    "#Contoh :\n",
    "#Nama : Ali\n",
    "#Kota : Semarang\n",
    "#Output :\n",
    "#Ali berada di Semarang\n",
    "\n",
    "nama=input(\"Nama :\")\n",
    "kota=input(\"Kota :\")\n",
    "print(nama+' berada di '+kota)"
   ]
  },
  {
   "cell_type": "code",
   "execution_count": 12,
   "metadata": {},
   "outputs": [
    {
     "name": "stdout",
     "output_type": "stream",
     "text": [
      "Mawar\n",
      "Melati\n",
      "Kenanga\n",
      "Anggrek\n",
      "\n",
      "Kamboja\n"
     ]
    }
   ],
   "source": [
    "#2. Buatlah sebuah list yang bernama kelurahan yang memiliki elemen nama-nama bunga sebagi\n",
    "#berikut : Mawar, Melati, Kenanga dan Anggrek\n",
    "\n",
    "#a. Cetaklah atau tampilkan semua elemen list tersebut dengan menggunakan index dari\n",
    "#list tersebut.\n",
    "bunga=[\"Mawar\",\"Melati\",\"Kenanga\",\"Anggrek\"]\n",
    "for i in range(len(bunga)):\n",
    "    print(bunga[i])\n",
    "\n",
    "print(\"\")\n",
    "\n",
    "#b. Tambahkan sebuah nama bunga yang baru (nama bunga apa saja) dan tampilkan\n",
    "#nama bunga baru tersebut dengan menggunakan list dan index nya.\n",
    "bunga.append(\"Kamboja\")  \n",
    "print(bunga[4])"
   ]
  },
  {
   "cell_type": "code",
   "execution_count": 14,
   "metadata": {},
   "outputs": [
    {
     "name": "stdout",
     "output_type": "stream",
     "text": [
      "Panjang (cm):20\n",
      "Lebar (cm):30\n",
      "Luas : 6.0 m \n"
     ]
    }
   ],
   "source": [
    "#3. Buatlah sebuah program untuk menghitung Luas dari sebuah Persegi Panjang dengan inputan\n",
    "#panjang dan lebar dalam centimeter (cm) dan tampilkan Luasnya dalam meter (m).\n",
    "#Contoh :\n",
    "#Panjang (cm) : 20\n",
    "#Lebar (cm) : 30\n",
    "#Luas : 6 m\n",
    "\n",
    "panjang=int(input(\"Panjang (cm):\"))\n",
    "lebar=int(input(\"Lebar (cm):\"))\n",
    "luas=(panjang*lebar)/100\n",
    "print(\"Luas :\",luas,\"m \")\n"
   ]
  },
  {
   "cell_type": "code",
   "execution_count": null,
   "metadata": {},
   "outputs": [],
   "source": []
  }
 ],
 "metadata": {
  "kernelspec": {
   "display_name": "Python 3",
   "language": "python",
   "name": "python3"
  },
  "language_info": {
   "codemirror_mode": {
    "name": "ipython",
    "version": 3
   },
   "file_extension": ".py",
   "mimetype": "text/x-python",
   "name": "python",
   "nbconvert_exporter": "python",
   "pygments_lexer": "ipython3",
   "version": "3.8.5"
  }
 },
 "nbformat": 4,
 "nbformat_minor": 4
}
