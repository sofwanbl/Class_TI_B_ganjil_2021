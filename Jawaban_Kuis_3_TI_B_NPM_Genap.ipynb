{
 "cells": [
  {
   "cell_type": "code",
   "execution_count": 4,
   "metadata": {},
   "outputs": [
    {
     "name": "stdout",
     "output_type": "stream",
     "text": [
      "Nama :Budi\n",
      "Tempat :Magelang\n",
      "Selamat Datang  Budi  di  Magelang\n"
     ]
    }
   ],
   "source": [
    "#1. Buatlah program dengan 2 inputan berupa inputan Nama dan Tempat lalu gabungkan dengan\n",
    "#dengan sebuah kalimat sehingga menjadi : Selamat Datang <<nama>> di <<Tempat>>\n",
    "#Contoh :\n",
    "#Nama : Ali\n",
    "#Tempat : Kelurahan Petukangan Utara\n",
    "#Output :\n",
    "#Selamat Datang Ali di Kelurahan Petukangan Utara\n",
    "\n",
    "nama=input(\"Nama :\")\n",
    "tempat=input(\"Tempat :\")\n",
    "print(\"Selamat Datang \",nama,\" di \",tempat)"
   ]
  },
  {
   "cell_type": "code",
   "execution_count": 3,
   "metadata": {},
   "outputs": [
    {
     "name": "stdout",
     "output_type": "stream",
     "text": [
      "Petukangan Utara\n",
      "Petukangan Selatan\n",
      "Pesanggrahan\n",
      "Cipulir\n"
     ]
    }
   ],
   "source": [
    "#2. Buatlah sebuah list yang bernama kelurahan yang memiliki elemen nama-nama kelurahan di\n",
    "#Jakarta sebagai berikut : Petukangan Utara, Petukangan selatan, Pesanggrahan dan Cipulir.\n",
    "#a. Cetaklah atau tampilkan semua elemen list tersebut dengan menggunakan index dari\n",
    "#list tersebut.\n",
    "\n",
    "kelurahan=[\"Petukangan Utara\",\"Petukangan Selatan\",\"Pesanggrahan\",\"Cipulir\"]\n",
    "for i in range(len(kelurahan)):    \n",
    "    print(kelurahan[i])"
   ]
  },
  {
   "cell_type": "code",
   "execution_count": 5,
   "metadata": {},
   "outputs": [
    {
     "name": "stdout",
     "output_type": "stream",
     "text": [
      "Joglo\n"
     ]
    }
   ],
   "source": [
    "#b. Tambahkan sebuah nama kelurahan yang baru (kelurahan di Jakarta apa saja) dan tampilkan\n",
    "#kelurahan baru tersebut dengan menggunakan list dan index nya.\n",
    "kelurahan.append(\"Joglo\")\n",
    "print(kelurahan[4])"
   ]
  },
  {
   "cell_type": "code",
   "execution_count": 7,
   "metadata": {},
   "outputs": [
    {
     "name": "stdout",
     "output_type": "stream",
     "text": [
      "Sisi (Cm) :20\n",
      "Luas : 4.0  m\n"
     ]
    }
   ],
   "source": [
    "#3. Buatlah sebuah program untuk menghitung Luas dari sebuah Bujur sangkar dengan inputan\n",
    "#panjang sisinya dalam centimeter (cm) dan tampilkan Luasnya dalam meter (m).\n",
    "#Contoh :\n",
    "#Sisi (cm) : 20\n",
    "#Luas : 4 m\n",
    "\n",
    "sisi=int(input(\"Sisi (Cm) :\"))\n",
    "luas=(sisi*sisi)/100\n",
    "print(\"Luas :\",luas,\" m\")"
   ]
  },
  {
   "cell_type": "code",
   "execution_count": null,
   "metadata": {},
   "outputs": [],
   "source": []
  }
 ],
 "metadata": {
  "kernelspec": {
   "display_name": "Python 3",
   "language": "python",
   "name": "python3"
  },
  "language_info": {
   "codemirror_mode": {
    "name": "ipython",
    "version": 3
   },
   "file_extension": ".py",
   "mimetype": "text/x-python",
   "name": "python",
   "nbconvert_exporter": "python",
   "pygments_lexer": "ipython3",
   "version": "3.8.5"
  }
 },
 "nbformat": 4,
 "nbformat_minor": 4
}
