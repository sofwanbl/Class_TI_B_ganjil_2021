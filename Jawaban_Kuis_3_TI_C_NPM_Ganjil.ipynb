{
 "cells": [
  {
   "cell_type": "code",
   "execution_count": 1,
   "metadata": {},
   "outputs": [
    {
     "name": "stdout",
     "output_type": "stream",
     "text": [
      "Bilangan 1 :5\n",
      "Bilangan 2 :6\n",
      "Bilangan 3 :4\n",
      "25\n"
     ]
    }
   ],
   "source": [
    "#1. Buatlah program penjumlahan 3 buah bilangan yang keduanya diinput lewat keyboard dan\n",
    "#selanjutnya bilangan tersebut ditambah dengan 10.\n",
    "#Contoh :\n",
    "#Bilangan 1 : 5\n",
    "#Bilangan 2 : 6\n",
    "#Bilangan 3 : 4\n",
    "#Output :\n",
    "#25\n",
    "\n",
    "bil_1=int(input(\"Bilangan 1 :\"))\n",
    "bil_2=int(input(\"Bilangan 2 :\"))\n",
    "bil_3=int(input(\"Bilangan 3 :\"))\n",
    "\n",
    "hasil=bil_1+bil_2+bil_3+10\n",
    "print(hasil)"
   ]
  },
  {
   "cell_type": "code",
   "execution_count": 1,
   "metadata": {},
   "outputs": [
    {
     "name": "stdout",
     "output_type": "stream",
     "text": [
      "Rambutan\n",
      "Mangga\n",
      "Apel\n",
      "Duku\n"
     ]
    }
   ],
   "source": [
    "#2.Buatlah sebuah list yang bernama nama_buah dengan anggota list adalah : Rambutan, Mangga,\n",
    "#  Apel dan Duku\n",
    "#a.Cetaklah atau tampilkan semua elemen list tersebut dengan menggunakan index dari\n",
    "#  list tersebut.\n",
    "buah=[\"Rambutan\",\"Mangga\",\"Apel\",\"Duku\"]\n",
    "for i in range(4):\n",
    "    print(buah[i])"
   ]
  },
  {
   "cell_type": "code",
   "execution_count": 2,
   "metadata": {},
   "outputs": [
    {
     "name": "stdout",
     "output_type": "stream",
     "text": [
      "Pepaya\n"
     ]
    }
   ],
   "source": [
    "#b.Tambahkan sebuah nama buah yang baru (nama buah apa saja) dan tampilkan\n",
    "#  nama buah baru tersebut dengan menggunakan list dan index nya.\n",
    "buah.append(\"Pepaya\")\n",
    "print(buah[4])"
   ]
  },
  {
   "cell_type": "code",
   "execution_count": 8,
   "metadata": {},
   "outputs": [
    {
     "name": "stdout",
     "output_type": "stream",
     "text": [
      "panjang (X Meter) :100\n",
      "Lebar (X Meter) :150\n",
      "Jumlah Putaran (Z):4\n",
      "Jarak tempuh lari pak Toni adalah : 2.0 KM\n"
     ]
    }
   ],
   "source": [
    "#3.Pak Toni berlari mengelilingi lapangan yang berukuran panjang X meter dan lebar Y meter\n",
    "#sebanyak Z kali putaran. Buatlah sebuah program untuk menghitung berapa Kilo meter (KM)\n",
    "#jarak yang ditempuh oleh pak Toni. Nilai X,Y dan Z diinput melalui keyboard.\n",
    "#Contoh :\n",
    "#Panjang (X meter) : 100\n",
    "#Lebar (Y meter) : 200\n",
    "#Jumlah Putaran (Z) : 5\n",
    "#Output :\n",
    "#Jarak tempuh lari pak Toni adalah : 3 KM\n",
    "\n",
    "panjang=int(input(\"panjang (X Meter) :\"))\n",
    "lebar=int(input(\"Lebar (X Meter) :\"))\n",
    "putaran=int(input(\"Jumlah Putaran (Z):\"))\n",
    "\n",
    "jarak=(((panjang+lebar)*2)*putaran)/1000\n",
    "print(\"Jarak tempuh lari pak Toni adalah :\",jarak,\"KM\")\n"
   ]
  },
  {
   "cell_type": "code",
   "execution_count": null,
   "metadata": {},
   "outputs": [],
   "source": []
  }
 ],
 "metadata": {
  "kernelspec": {
   "display_name": "Python 3",
   "language": "python",
   "name": "python3"
  },
  "language_info": {
   "codemirror_mode": {
    "name": "ipython",
    "version": 3
   },
   "file_extension": ".py",
   "mimetype": "text/x-python",
   "name": "python",
   "nbconvert_exporter": "python",
   "pygments_lexer": "ipython3",
   "version": "3.8.5"
  }
 },
 "nbformat": 4,
 "nbformat_minor": 4
}
