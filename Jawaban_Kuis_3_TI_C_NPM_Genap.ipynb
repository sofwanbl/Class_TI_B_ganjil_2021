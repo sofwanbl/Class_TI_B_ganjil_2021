{
 "cells": [
  {
   "cell_type": "code",
   "execution_count": 1,
   "metadata": {},
   "outputs": [
    {
     "name": "stdout",
     "output_type": "stream",
     "text": [
      "Bilangan 1 :5\n",
      "Bilangan 2 :6\n",
      "90\n"
     ]
    }
   ],
   "source": [
    "bil_1=int(input(\"Bilangan 1 :\"))\n",
    "bil_2=int(input(\"Bilangan 2 :\"))\n",
    "hasil=(bil_1*bil_2)*3\n",
    "print(hasil)\n"
   ]
  },
  {
   "cell_type": "code",
   "execution_count": 3,
   "metadata": {},
   "outputs": [
    {
     "name": "stdout",
     "output_type": "stream",
     "text": [
      "Iwan\n",
      "Agus\n",
      "Dede\n",
      "Soni\n"
     ]
    }
   ],
   "source": [
    "#2. Buatlah sebuah list yang bernama nama_teman dengan anggota list adalah : Iwan, Agus, Dede\n",
    "#   dan Soni\n",
    "# a. Cetaklah atau tampilkan semua elemen list tersebut dengan menggunakan index dari\n",
    "#    list tersebut.\n",
    "nama_teman=[\"Iwan\",\"Agus\",\"Dede\",\"Soni\"]\n",
    "for i in range(4):\n",
    "    print(nama_teman[i])"
   ]
  },
  {
   "cell_type": "code",
   "execution_count": 4,
   "metadata": {},
   "outputs": [
    {
     "name": "stdout",
     "output_type": "stream",
     "text": [
      "Budiman\n"
     ]
    }
   ],
   "source": [
    "#b. Tambahkan sebuah nama teman yang baru (nama teman siapa saja) dan tampilkan\n",
    "#   nama baru tersebut dengan menggunakan list dan index nya.\n",
    "nama_teman.append(\"Budiman\")\n",
    "print(nama_teman[4])"
   ]
  },
  {
   "cell_type": "code",
   "execution_count": 8,
   "metadata": {},
   "outputs": [
    {
     "name": "stdout",
     "output_type": "stream",
     "text": [
      "Panjang (cm) :150\n",
      "Lebar (cm) :25\n",
      "Tinggi (cm):45\n",
      "Volume : 1687.5 m kubik\n"
     ]
    }
   ],
   "source": [
    "#3. Buatlah sebuah program untuk menghitung Volume dari sebuah Balok dengan inputan\n",
    "#panjang, lebar dan tinggi dalam centimeter (cm) yang diinput lewat keyboard dan tampilkan\n",
    "#Volume dalam meter (m) kubik.\n",
    "#Contoh :\n",
    "#Panjang (cm) : 20\n",
    "#Lebar (cm) : 10\n",
    "#Tinggi (cm) : 5\n",
    "#Output :\n",
    "#Volume : 10 m kubik\n",
    "\n",
    "panjang=int(input(\"Panjang (cm) :\"))\n",
    "lebar=int(input(\"Lebar (cm) :\"))\n",
    "tinggi=int(input(\"Tinggi (cm):\"))\n",
    "\n",
    "vol=(panjang*lebar*tinggi)/100\n",
    "\n",
    "print(\"Volume :\",vol,\"m kubik\")\n"
   ]
  },
  {
   "cell_type": "markdown",
   "metadata": {},
   "source": [
    "##### "
   ]
  },
  {
   "cell_type": "code",
   "execution_count": null,
   "metadata": {},
   "outputs": [],
   "source": []
  },
  {
   "cell_type": "code",
   "execution_count": null,
   "metadata": {},
   "outputs": [],
   "source": []
  }
 ],
 "metadata": {
  "kernelspec": {
   "display_name": "Python 3",
   "language": "python",
   "name": "python3"
  },
  "language_info": {
   "codemirror_mode": {
    "name": "ipython",
    "version": 3
   },
   "file_extension": ".py",
   "mimetype": "text/x-python",
   "name": "python",
   "nbconvert_exporter": "python",
   "pygments_lexer": "ipython3",
   "version": "3.8.5"
  }
 },
 "nbformat": 4,
 "nbformat_minor": 4
}
