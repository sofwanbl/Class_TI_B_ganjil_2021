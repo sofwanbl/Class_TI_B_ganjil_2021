{
 "cells": [
  {
   "cell_type": "code",
   "execution_count": 1,
   "metadata": {},
   "outputs": [
    {
     "name": "stdout",
     "output_type": "stream",
     "text": [
      "Panjang Balok (meter):10\n",
      "Lebar Balok (meter):20\n",
      "Tinggi Balok (meter):5\n",
      "1000 meter kubik\n"
     ]
    }
   ],
   "source": [
    "#1. Cobalah script di slide pertemuan 11 contoh soal 3.\n",
    "\n",
    "def hitung(x,y,z):\n",
    "    vol=x*y*z\n",
    "    print(vol,\"meter kubik\")\n",
    "\n",
    "x=int(input(\"Panjang Balok (meter):\"))    \n",
    "y=int(input(\"Lebar Balok (meter):\"))\n",
    "z=int(input(\"Tinggi Balok (meter):\"))\n",
    "\n",
    "hitung(x,y,z)"
   ]
  },
  {
   "cell_type": "code",
   "execution_count": 5,
   "metadata": {},
   "outputs": [
    {
     "name": "stdout",
     "output_type": "stream",
     "text": [
      "Nilai x :0\n",
      "Nol\n"
     ]
    }
   ],
   "source": [
    "#2. Terdapat sebuah inputan bilangan x.x berupa integer. Tentukan x apakah negatif, nol atau positif.\n",
    "#Gunakan function dalam proses nya.\n",
    "#Contoh 1 :\n",
    "#Nilai x : 5\n",
    "\n",
    "#Output :\n",
    "#Positif\n",
    "\n",
    "#Contoh 2 :\n",
    "#Nilai x : -4\n",
    "\n",
    "#Output :\n",
    "#Negatif\n",
    "\n",
    "def ket(x):\n",
    "    if x>0:\n",
    "        print(\"Positif\")\n",
    "    elif x<0:\n",
    "        print(\"Negatif\")\n",
    "    else:\n",
    "        print(\"Nol\")\n",
    "    \n",
    "x=int(input(\"Nilai x :\"))\n",
    "ket(x)\n",
    "\n"
   ]
  },
  {
   "cell_type": "code",
   "execution_count": 8,
   "metadata": {},
   "outputs": [
    {
     "name": "stdout",
     "output_type": "stream",
     "text": [
      "Nilai y:-7\n",
      "* * * * * * * "
     ]
    }
   ],
   "source": [
    "#3. Terdapat sebuah inputan y. y berupa integer. Cetaklah karakter “*” sebanyak y kali. Jika y\n",
    "#negatif, maka karakter “*” juga dicetak sebanyak y positif.\n",
    "#Contoh 1:\n",
    "#Nilai y : 8\n",
    "#Output : ********\n",
    "\n",
    "#Contoh 2 :\n",
    "#Nilai y : -5\n",
    "#Output : *****\n",
    "\n",
    "y=int(input(\"Nilai y:\"))\n",
    "if y<0:\n",
    "   y=abs(y)\n",
    "\n",
    "for i in range(y):\n",
    "    print(\"*\",end=\" \")\n",
    "\n",
    "    "
   ]
  },
  {
   "cell_type": "code",
   "execution_count": null,
   "metadata": {},
   "outputs": [],
   "source": []
  }
 ],
 "metadata": {
  "kernelspec": {
   "display_name": "Python 3",
   "language": "python",
   "name": "python3"
  },
  "language_info": {
   "codemirror_mode": {
    "name": "ipython",
    "version": 3
   },
   "file_extension": ".py",
   "mimetype": "text/x-python",
   "name": "python",
   "nbconvert_exporter": "python",
   "pygments_lexer": "ipython3",
   "version": "3.8.5"
  }
 },
 "nbformat": 4,
 "nbformat_minor": 4
}
